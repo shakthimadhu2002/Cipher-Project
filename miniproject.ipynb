{
  "nbformat": 4,
  "nbformat_minor": 0,
  "metadata": {
    "colab": {
      "provenance": []
    },
    "kernelspec": {
      "name": "python3",
      "display_name": "Python 3"
    },
    "language_info": {
      "name": "python"
    }
  },
  "cells": [
    {
      "cell_type": "code",
      "execution_count": null,
      "metadata": {
        "colab": {
          "base_uri": "https://localhost:8080/"
        },
        "id": "6S_a78eT2cr5",
        "outputId": "39e8f0fb-2ab6-45ec-c951-47ba2bb48470"
      },
      "outputs": [
        {
          "output_type": "stream",
          "name": "stdout",
          "text": [
            "Looking in indexes: https://pypi.org/simple, https://us-python.pkg.dev/colab-wheels/public/simple/\n",
            "Collecting tinyec\n",
            "  Downloading tinyec-0.4.0.tar.gz (24 kB)\n",
            "  Preparing metadata (setup.py) ... \u001b[?25l\u001b[?25hdone\n",
            "Building wheels for collected packages: tinyec\n",
            "  Building wheel for tinyec (setup.py) ... \u001b[?25l\u001b[?25hdone\n",
            "  Created wheel for tinyec: filename=tinyec-0.4.0-py3-none-any.whl size=20877 sha256=4d290237860abb335a09dde1c291c478150d283b94ea4543b1a4d7481bb2f9b7\n",
            "  Stored in directory: /root/.cache/pip/wheels/02/37/a5/aa011cfa66451de6aa2dbccaa3e7862e8290f0946653753265\n",
            "Successfully built tinyec\n",
            "Installing collected packages: tinyec\n",
            "Successfully installed tinyec-0.4.0\n"
          ]
        }
      ],
      "source": [
        "pip install tinyec"
      ]
    },
    {
      "cell_type": "code",
      "source": [
        "from tinyec import registry\n",
        "import secrets\n",
        "\n",
        "curve = registry.get_curve('brainpoolP256r1')\n",
        "\n",
        "def compress_point(point):\n",
        "    return hex(point.x) + hex(point.y % 2)[2:]\n",
        "\n",
        "def ecc_calc_encryption_keys(pubKey):\n",
        "    ciphertextPrivKey = secrets.randbelow(curve.field.n)\n",
        "    ciphertextPubKey = ciphertextPrivKey * curve.g\n",
        "    sharedECCKey = pubKey * ciphertextPrivKey\n",
        "    return (sharedECCKey, ciphertextPubKey)\n",
        "\n",
        "def ecc_calc_decryption_key(privKey, ciphertextPubKey):\n",
        "    sharedECCKey = ciphertextPubKey * privKey\n",
        "    return sharedECCKey\n",
        "\n",
        "privKey = secrets.randbelow(curve.field.n)\n",
        "pubKey = privKey * curve.g\n",
        "print(\"private key:\", hex(privKey))\n",
        "print(\"public key:\", compress_point(pubKey))\n",
        "\n",
        "(encryptKey1, ciphertextPubKey1) = ecc_calc_encryption_keys(pubKey)\n",
        "(encryptKey2, ciphertextPubKey2) = ecc_calc_encryption_keys(pubKey)\n",
        "(encryptKey3, ciphertextPubKey3) = ecc_calc_encryption_keys(pubKey)\n",
        "(encryptKey4, ciphertextPubKey4) = ecc_calc_encryption_keys(pubKey)\n",
        "(encryptKey5, ciphertextPubKey5) = ecc_calc_encryption_keys(pubKey)\n",
        "\n",
        "print(\"ciphertext pubKey1:\", compress_point(ciphertextPubKey1))\n",
        "print(\"ciphertext pubKey2:\", compress_point(ciphertextPubKey2))\n",
        "print(\"ciphertext pubKey3:\", compress_point(ciphertextPubKey3))\n",
        "print(\"ciphertext pubKey4:\", compress_point(ciphertextPubKey4))\n",
        "print(\"ciphertext pubKey5:\", compress_point(ciphertextPubKey5))\n",
        "\n",
        "print(\"encryption key1:\", compress_point(encryptKey1))\n",
        "print(\"encryption key2:\", compress_point(encryptKey2))\n",
        "print(\"encryption key3:\", compress_point(encryptKey3))\n",
        "print(\"encryption key4:\", compress_point(encryptKey4))\n",
        "print(\"encryption key5:\", compress_point(encryptKey5))\n",
        "\n",
        "decryptKey1 = ecc_calc_decryption_key(privKey, ciphertextPubKey1)\n",
        "decryptKey2 = ecc_calc_decryption_key(privKey, ciphertextPubKey2)\n",
        "decryptKey3 = ecc_calc_decryption_key(privKey, ciphertextPubKey3)\n",
        "decryptKey4 = ecc_calc_decryption_key(privKey, ciphertextPubKey4)\n",
        "decryptKey5 = ecc_calc_decryption_key(privKey, ciphertextPubKey5)\n",
        "\n",
        "print(\"decryption key1:\", compress_point(decryptKey1))\n",
        "print(\"decryption key2:\", compress_point(decryptKey2))\n",
        "print(\"decryption key3:\", compress_point(decryptKey3))\n",
        "print(\"decryption key4:\", compress_point(decryptKey4))\n",
        "print(\"decryption key5:\", compress_point(decryptKey5))\n"
      ],
      "metadata": {
        "colab": {
          "base_uri": "https://localhost:8080/"
        },
        "id": "9gfq3Mnh2k1J",
        "outputId": "a7a28494-8c0f-4414-abca-44b470aabdab"
      },
      "execution_count": null,
      "outputs": [
        {
          "output_type": "stream",
          "name": "stdout",
          "text": [
            "private key: 0x87d79c665e4ff14c967736473cf9bfc9e286f52459a838e682904f197edd5626\n",
            "public key: 0x5640861232168ca9a9cd34e9c349b1eeb6fe1742d4d4d4c52ccabf08b26efab00\n",
            "ciphertext pubKey1: 0x496c8ba66aaf27b39f7acf38d7487b4dac7ea5d34ae9fee5fd96327db189952c0\n",
            "ciphertext pubKey2: 0x2483554673a16144f86bacc126bae114ea0e88c419686799bd2a40dc84b4f5411\n",
            "ciphertext pubKey3: 0x19878caf1cc7fd2dbacadbe4f472795985a7ce7fe2acb93a2802e33ae9b59f6c1\n",
            "ciphertext pubKey4: 0x5f2eb4985a196cd38f21e01c8f49c0926bc5949e3d9f4fdb3eec31486dece42f0\n",
            "ciphertext pubKey5: 0x913da1f107e9181859025509708c45b0bf322fa8a5a687fdc8e8f219aef364591\n",
            "encryption key1: 0xda5fcfae409dd6915fbf47ef3c9f6787889ddae5f37df6490fff5024261017d0\n",
            "encryption key2: 0xa0fce0d849abcdf7ad4302e3823826837e2c4a9ce8791f6fc62786a57fc42c500\n",
            "encryption key3: 0x87ae5e8fb4c8e9240803e9d0f0719f02f8cf6e284c7b1976ebf6c0e1c2375f3f1\n",
            "encryption key4: 0x4285fb376952f28799743ef538b2f569a3a5c8f9918249bfaffc18a13587d5df1\n",
            "encryption key5: 0x6f9c214768f7bfeccc329c9293544b9840235ecc2b1044e0a4f42458bc12b6480\n",
            "decryption key1: 0xda5fcfae409dd6915fbf47ef3c9f6787889ddae5f37df6490fff5024261017d0\n",
            "decryption key2: 0xa0fce0d849abcdf7ad4302e3823826837e2c4a9ce8791f6fc62786a57fc42c500\n",
            "decryption key3: 0x87ae5e8fb4c8e9240803e9d0f0719f02f8cf6e284c7b1976ebf6c0e1c2375f3f1\n",
            "decryption key4: 0x4285fb376952f28799743ef538b2f569a3a5c8f9918249bfaffc18a13587d5df1\n",
            "decryption key5: 0x6f9c214768f7bfeccc329c9293544b9840235ecc2b1044e0a4f42458bc12b6480\n"
          ]
        }
      ]
    }
  ]
}